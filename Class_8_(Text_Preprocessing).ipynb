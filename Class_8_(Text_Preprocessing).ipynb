{
  "nbformat": 4,
  "nbformat_minor": 0,
  "metadata": {
    "colab": {
      "provenance": [],
      "authorship_tag": "ABX9TyMPlpDnhFXE1I2AYbzvQWjr",
      "include_colab_link": true
    },
    "kernelspec": {
      "name": "python3",
      "display_name": "Python 3"
    },
    "language_info": {
      "name": "python"
    }
  },
  "cells": [
    {
      "cell_type": "markdown",
      "metadata": {
        "id": "view-in-github",
        "colab_type": "text"
      },
      "source": [
        "<a href=\"https://colab.research.google.com/github/shojibruhan/BookVault/blob/main/Class_8_(Text_Preprocessing).ipynb\" target=\"_parent\"><img src=\"https://colab.research.google.com/assets/colab-badge.svg\" alt=\"Open In Colab\"/></a>"
      ]
    },
    {
      "cell_type": "markdown",
      "source": [
        "# Segmentaion"
      ],
      "metadata": {
        "id": "EfhBoVoP4hgw"
      }
    },
    {
      "cell_type": "code",
      "source": [
        "import nltk\n",
        "from nltk.tokenize import sent_tokenize\n",
        "nltk.download('punkt_tab')\n",
        "\n",
        "text= 'I am practicing Natural Language Processing. Just starting! Dont know, where it going'\n",
        "\n",
        "sentences= sent_tokenize(text)\n",
        "sentences\n"
      ],
      "metadata": {
        "colab": {
          "base_uri": "https://localhost:8080/"
        },
        "id": "6D_sx0tz4gYm",
        "outputId": "51c251cd-684f-4754-c3a7-2cfa2d1fc2fc"
      },
      "execution_count": null,
      "outputs": [
        {
          "output_type": "stream",
          "name": "stderr",
          "text": [
            "[nltk_data] Downloading package punkt_tab to /root/nltk_data...\n",
            "[nltk_data]   Package punkt_tab is already up-to-date!\n"
          ]
        },
        {
          "output_type": "execute_result",
          "data": {
            "text/plain": [
              "['I am practicing Natural Language Processing.',\n",
              " 'Just starting!',\n",
              " 'Dont know, where it going']"
            ]
          },
          "metadata": {},
          "execution_count": 8
        }
      ]
    },
    {
      "cell_type": "code",
      "source": [
        "for i, sentence in enumerate(sentences):\n",
        "  print(f\"{i+1}: {sentence}\")"
      ],
      "metadata": {
        "colab": {
          "base_uri": "https://localhost:8080/"
        },
        "id": "H9f5hpEt4gbn",
        "outputId": "723ddd8b-8f81-4ed3-8163-7a1b51bd851a"
      },
      "execution_count": null,
      "outputs": [
        {
          "output_type": "stream",
          "name": "stdout",
          "text": [
            "1: I am practicing Natural Language Processing.\n",
            "2: Just starting!\n",
            "3: Dont know, where it going\n"
          ]
        }
      ]
    },
    {
      "cell_type": "markdown",
      "source": [
        "# punctuation and special characters"
      ],
      "metadata": {
        "id": "7x3Jjo8g8Z-u"
      }
    },
    {
      "cell_type": "code",
      "source": [
        "import re\n",
        "from nltk.tokenize import word_tokenize\n",
        "\n",
        "url_pattern = r'http[s]?://(?:[a-zA-Z]|[0-9]|[$-_@.&+]|[!*\\\\(\\\\),]|(?:%[0-9a-fA-F][0-9a-fA-F]))+'\n",
        "punctuation_pattern = r'[^\\w\\s]'\n",
        "text = \"Hello! Check out my website: http://example.com. It's awesome! #excited @user $100.\"\n",
        "\n",
        "text= re.sub(url_pattern, '', text)\n",
        "\n",
        "words= word_tokenize(text)\n",
        "words"
      ],
      "metadata": {
        "colab": {
          "base_uri": "https://localhost:8080/"
        },
        "id": "CMnXSi8c4ge9",
        "outputId": "21c8228c-70f2-4dde-ef22-3a1e920d0841"
      },
      "execution_count": null,
      "outputs": [
        {
          "output_type": "execute_result",
          "data": {
            "text/plain": [
              "['Hello',\n",
              " '!',\n",
              " 'Check',\n",
              " 'out',\n",
              " 'my',\n",
              " 'website',\n",
              " ':',\n",
              " 'It',\n",
              " \"'s\",\n",
              " 'awesome',\n",
              " '!',\n",
              " '#',\n",
              " 'excited',\n",
              " '@',\n",
              " 'user',\n",
              " '$',\n",
              " '100',\n",
              " '.']"
            ]
          },
          "metadata": {},
          "execution_count": 12
        }
      ]
    },
    {
      "cell_type": "code",
      "source": [
        "text=re.sub(punctuation_pattern, '', text)\n",
        "word= word_tokenize(text)\n",
        "print(word)\n",
        "print(text)"
      ],
      "metadata": {
        "colab": {
          "base_uri": "https://localhost:8080/"
        },
        "id": "6BLdNuSC4ghm",
        "outputId": "0a9dd232-b6f7-4c03-9575-b56d5f4b2d71"
      },
      "execution_count": null,
      "outputs": [
        {
          "output_type": "stream",
          "name": "stdout",
          "text": [
            "['Hello', 'Check', 'out', 'my', 'website', 'Its', 'awesome', 'excited', 'user', '100']\n",
            "Hello Check out my website  Its awesome excited user 100\n"
          ]
        }
      ]
    },
    {
      "cell_type": "code",
      "source": [
        "lower_text= text.lower()\n",
        "print(lower_text)"
      ],
      "metadata": {
        "colab": {
          "base_uri": "https://localhost:8080/"
        },
        "id": "S1_dBYGN4gkd",
        "outputId": "2ff859bf-b225-4edb-d5bd-0d340c5c9f62"
      },
      "execution_count": null,
      "outputs": [
        {
          "output_type": "stream",
          "name": "stdout",
          "text": [
            "hello check out my website  its awesome excited user 100\n"
          ]
        }
      ]
    },
    {
      "cell_type": "code",
      "source": [
        "cap_sent= 'HELLLOOOO WORLD! ITS ME CHECKING SOMETHING'\n",
        "lower_text= cap_sent.lower()\n",
        "print(lower_text)"
      ],
      "metadata": {
        "colab": {
          "base_uri": "https://localhost:8080/"
        },
        "id": "dI-cCTtm4gm0",
        "outputId": "e7a9ed4e-3a9d-4bbe-d6db-644823dabbe7"
      },
      "execution_count": null,
      "outputs": [
        {
          "output_type": "stream",
          "name": "stdout",
          "text": [
            "hellloooo world! its me checking something\n"
          ]
        }
      ]
    },
    {
      "cell_type": "code",
      "source": [],
      "metadata": {
        "id": "Fzx3OV-54gpr"
      },
      "execution_count": null,
      "outputs": []
    }
  ]
}